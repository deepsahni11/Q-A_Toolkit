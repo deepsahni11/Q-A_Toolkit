{
 "cells": [
  {
   "cell_type": "code",
   "execution_count": null,
   "metadata": {},
   "outputs": [],
   "source": []
  },
  {
   "cell_type": "code",
   "execution_count": 107,
   "metadata": {},
   "outputs": [],
   "source": [
    "\n",
    "import torch\n",
    "import torch.nn as nn\n",
    "import torch.nn.functional as F\n",
    "from torch.nn.utils.rnn import pack_padded_sequence, pad_packed_sequence\n",
    "import pickle\n",
    "import os\n",
    "\n",
    "\n",
    "with open(r\"E:\\\\Internships_19\\\\Internship(Summer_19)\\\\Q&A_Toolkit\\\\Dataset_analysis\\\\SQuAD\\\\glove_word_embeddings.pkl\", \"rb\") as input_file:\n",
    "    emb_matrix = pickle.load(input_file)\n",
    "    \n",
    "names = [\"validation_context\",\"train_context\",\"validation_question\",\"train_question\"]\n",
    "data_dir = \"E:\\\\Internships_19\\\\Internship(Summer_19)\\\\Q&A_Toolkit\\\\Dataset_analysis\\\\SQuAD\\\\\"\n",
    "\n",
    "word_index_padded =[os.path.join(data_dir + name + \"_word_index_padded.pkl\")  for name in names ]\n",
    "\n",
    "with open(word_index_padded[0], \"rb\") as input_file:\n",
    "    validation_context_word_index_padded = pickle.load(input_file)\n",
    "with open(word_index_padded[1], \"rb\") as input_file:\n",
    "    train_context_word_index_padded = pickle.load(input_file)\n",
    "with open(word_index_padded[2], \"rb\") as input_file:\n",
    "    validation_question_word_index_padded = pickle.load(input_file)\n",
    "with open(word_index_padded[3], \"rb\") as input_file:\n",
    "    train_question_word_index_padded = pickle.load(input_file)\n",
    "    \n",
    "validation_context_word_mask = (validation_context_word_index_padded != 0).type(torch.int32) \n",
    "train_context_word_mask = (train_context_word_index_padded != 0).type(torch.int32) \n",
    "validation_question_word_mask = (validation_question_word_index_padded != 0).type(torch.int32) \n",
    "train_question_word_mask = (train_question_word_index_padded != 0).type(torch.int32) \n",
    "\n",
    "\n",
    "def get_pretrained_embedding(embedding_matrix):\n",
    "    embedding = nn.Embedding(*embedding_matrix.shape)\n",
    "    embedding.weight = nn.Parameter(torch.from_numpy(embedding_matrix).float())\n",
    "    embedding.weight.requires_grad = False\n",
    "    return embedding\n",
    "\n",
    "\n",
    "def init_lstm_forget_bias(lstm):\n",
    "    for names in lstm._all_weights:\n",
    "        for name in names:\n",
    "            if name.startswith('bias_'):\n",
    "                # set forget bias to 1\n",
    "                bias = getattr(lstm, name)\n",
    "                n = bias.size(0)\n",
    "                start, end = n // 4, n // 2\n",
    "                bias.data.fill_(0.)\n",
    "                bias.data[start:end].fill_(1.)\n",
    "\n",
    "class Word_Level_Encoder(nn.Module):\n",
    "    \n",
    "    def __init__(self, hidden_dim, embedding_matrix, dropout_ratio):\n",
    "        super(Word_Level_Encoder, self).__init__()\n",
    "        self.hidden_dim = hidden_dim\n",
    "\n",
    "        self.embedding = get_pretrained_embedding(embedding_matrix)\n",
    "        self.emb_dim = self.embedding.embedding_dim\n",
    "\n",
    "        self.encoder = nn.LSTM(self.emb_dim, hidden_dim, 1, batch_first=True,\n",
    "                              bidirectional=False, dropout=dropout_ratio)\n",
    "        init_lstm_forget_bias(self.encoder)\n",
    "        self.dropout_emb = nn.Dropout(p=dropout_ratio)\n",
    "        self.sentinel = nn.Parameter(torch.rand(hidden_dim,))\n",
    "\n",
    "    def forward(self, seq, mask):\n",
    "        lens = torch.sum(mask, 1)\n",
    "        lens_sorted, lens_argsort = torch.sort(lens, 0, True)\n",
    "        _, lens_argsort_argsort = torch.sort(lens_argsort, 0)\n",
    "        seq_ = torch.index_select(seq, 0, lens_argsort)\n",
    "\n",
    "        seq_embd = self.embedding(seq_)\n",
    "        packed = pack_padded_sequence(seq_embd, lens_sorted, batch_first=True)\n",
    "        output, _ = self.encoder(packed)\n",
    "        e, _ = pad_packed_sequence(output, batch_first=True)\n",
    "        e = e.contiguous()\n",
    "        e = torch.index_select(e, 0, lens_argsort_argsort)  # B x m x 2l\n",
    "        e = self.dropout_emb(e)\n",
    "\n",
    "        b, _ = list(mask.size())\n",
    "        # copy sentinel vector at the end\n",
    "        sentinel_exp = self.sentinel.unsqueeze(0).expand(b, self.hidden_dim).unsqueeze(1).contiguous()  # B x 1 x l\n",
    "        lens = lens.unsqueeze(1).expand(b, self.hidden_dim).unsqueeze(1)\n",
    "\n",
    "        sentinel_zero = torch.zeros(b, 1, self.hidden_dim)\n",
    "        \n",
    "        e = torch.cat([e, sentinel_zero], 1)  # B x m + 1 x l\n",
    "        e = e.scatter_(1, lens, sentinel_exp)\n",
    "\n",
    "        return e\n",
    "    \n",
    "    \n",
    "hidden_dim = 300\n",
    "dropout_ratio = 0.2\n",
    "encoder = Word_Level_Encoder(hidden_dim, emb_matrix, dropout_ratio)\n",
    "\n",
    "e = encoder(validation_context_word_index_padded.type(torch.long)[:10],validation_context_word_mask[:10])"
   ]
  },
  {
   "cell_type": "code",
   "execution_count": 120,
   "metadata": {},
   "outputs": [
    {
     "data": {
      "text/plain": [
       "torch.Size([400])"
      ]
     },
     "execution_count": 120,
     "metadata": {},
     "output_type": "execute_result"
    }
   ],
   "source": [
    "validation_context_word_mask[20].size()"
   ]
  },
  {
   "cell_type": "code",
   "execution_count": 141,
   "metadata": {},
   "outputs": [
    {
     "data": {
      "text/plain": [
       "tensor([[1, 2],\n",
       "        [4, 5],\n",
       "        [7, 8]])"
      ]
     },
     "execution_count": 141,
     "metadata": {},
     "output_type": "execute_result"
    }
   ],
   "source": [
    "a  = torch.arange(1,10)\n",
    "b= a.view((3,3))\n",
    "b[:,torch.arange(0,2)]"
   ]
  },
  {
   "cell_type": "code",
   "execution_count": 124,
   "metadata": {},
   "outputs": [],
   "source": [
    "# (1.0 - validation_context_word_mask[0].float()) * (-1e30)"
   ]
  },
  {
   "cell_type": "code",
   "execution_count": 24,
   "metadata": {},
   "outputs": [
    {
     "data": {
      "text/plain": [
       "(5,)"
      ]
     },
     "execution_count": 24,
     "metadata": {},
     "output_type": "execute_result"
    }
   ],
   "source": [
    "import numpy as np\n",
    "a = np.zeros(5)\n",
    "b = np.expand_dims(a,1).astype(int)\n",
    "np.shape(np.arange(0,5))"
   ]
  },
  {
   "cell_type": "code",
   "execution_count": 125,
   "metadata": {},
   "outputs": [
    {
     "data": {
      "text/plain": [
       "tensor([0, 0, 0, 0, 0, 0, 0, 0, 0, 0])"
      ]
     },
     "execution_count": 125,
     "metadata": {},
     "output_type": "execute_result"
    }
   ],
   "source": [
    "torch.zeros(10, ).long()"
   ]
  },
  {
   "cell_type": "code",
   "execution_count": 27,
   "metadata": {},
   "outputs": [
    {
     "data": {
      "text/plain": [
       "array([[1, 0, 0, 0, 0],\n",
       "       [1, 1, 0, 0, 0],\n",
       "       [1, 1, 1, 0, 0],\n",
       "       [1, 1, 1, 1, 0],\n",
       "       [1, 1, 1, 1, 1]])"
      ]
     },
     "execution_count": 27,
     "metadata": {},
     "output_type": "execute_result"
    }
   ],
   "source": [
    "indices = np.arange(1,6)\n",
    "seq_lens = np.arange(1,6)\n",
    "(indices <= np.expand_dims(seq_lens, 1)).astype(int)"
   ]
  },
  {
   "cell_type": "code",
   "execution_count": 29,
   "metadata": {},
   "outputs": [
    {
     "ename": "TypeError",
     "evalue": "sum() received an invalid combination of arguments - got (numpy.ndarray, int), but expected one of:\n * (Tensor input)\n * (Tensor input, torch.dtype dtype)\n      didn't match because some of the arguments have invalid types: (\u001b[31;1mnumpy.ndarray\u001b[0m, \u001b[31;1mint\u001b[0m)\n * (Tensor input, tuple of ints dim, torch.dtype dtype, Tensor out)\n * (Tensor input, tuple of ints dim, bool keepdim, torch.dtype dtype, Tensor out)\n * (Tensor input, tuple of ints dim, bool keepdim, Tensor out)\n",
     "output_type": "error",
     "traceback": [
      "\u001b[1;31m---------------------------------------------------------------------------\u001b[0m",
      "\u001b[1;31mTypeError\u001b[0m                                 Traceback (most recent call last)",
      "\u001b[1;32m<ipython-input-29-7bf082f660f8>\u001b[0m in \u001b[0;36m<module>\u001b[1;34m()\u001b[0m\n\u001b[1;32m----> 1\u001b[1;33m \u001b[0mtorch\u001b[0m\u001b[1;33m.\u001b[0m\u001b[0msum\u001b[0m\u001b[1;33m(\u001b[0m\u001b[0mnp\u001b[0m\u001b[1;33m.\u001b[0m\u001b[0mones\u001b[0m\u001b[1;33m(\u001b[0m\u001b[1;36m3\u001b[0m\u001b[1;33m)\u001b[0m\u001b[1;33m,\u001b[0m\u001b[1;36m1\u001b[0m\u001b[1;33m)\u001b[0m\u001b[1;33m\u001b[0m\u001b[0m\n\u001b[0m",
      "\u001b[1;31mTypeError\u001b[0m: sum() received an invalid combination of arguments - got (numpy.ndarray, int), but expected one of:\n * (Tensor input)\n * (Tensor input, torch.dtype dtype)\n      didn't match because some of the arguments have invalid types: (\u001b[31;1mnumpy.ndarray\u001b[0m, \u001b[31;1mint\u001b[0m)\n * (Tensor input, tuple of ints dim, torch.dtype dtype, Tensor out)\n * (Tensor input, tuple of ints dim, bool keepdim, torch.dtype dtype, Tensor out)\n * (Tensor input, tuple of ints dim, bool keepdim, Tensor out)\n"
     ]
    }
   ],
   "source": [
    "torch.sum(np.ones(3),1)"
   ]
  },
  {
   "cell_type": "code",
   "execution_count": 31,
   "metadata": {},
   "outputs": [],
   "source": [
    "qn_ids = np.arange(1,6)\n",
    "qn_ids = np.array(qn_ids) # shape (batch_size, question_len)\n",
    "qn_mask = (qn_ids != 0).astype(np.int32) # "
   ]
  },
  {
   "cell_type": "code",
   "execution_count": 32,
   "metadata": {},
   "outputs": [
    {
     "data": {
      "text/plain": [
       "array([1, 1, 1, 1, 1])"
      ]
     },
     "execution_count": 32,
     "metadata": {},
     "output_type": "execute_result"
    }
   ],
   "source": [
    "qn_mask"
   ]
  }
 ],
 "metadata": {
  "kernelspec": {
   "display_name": "Python 3",
   "language": "python",
   "name": "python3"
  },
  "language_info": {
   "codemirror_mode": {
    "name": "ipython",
    "version": 3
   },
   "file_extension": ".py",
   "mimetype": "text/x-python",
   "name": "python",
   "nbconvert_exporter": "python",
   "pygments_lexer": "ipython3",
   "version": "3.6.3"
  },
  "toc": {
   "nav_menu": {},
   "number_sections": true,
   "sideBar": true,
   "skip_h1_title": false,
   "title_cell": "Table of Contents",
   "title_sidebar": "Contents",
   "toc_cell": false,
   "toc_position": {},
   "toc_section_display": true,
   "toc_window_display": false
  }
 },
 "nbformat": 4,
 "nbformat_minor": 2
}
